{
 "cells": [
  {
   "cell_type": "code",
   "execution_count": 1,
   "id": "c307afa6",
   "metadata": {},
   "outputs": [],
   "source": [
    "from sklearn.model_selection import train_test_split\n",
    "from sklearn.feature_extraction.text import TfidfVectorizer\n",
    "from sklearn.linear_model import LogisticRegression\n",
    "from sklearn.metrics import accuracy_score, classification_report\n",
    "from sklearn.pipeline import make_pipeline  # Import make_pipeline"
   ]
  },
  {
   "cell_type": "code",
   "execution_count": 2,
   "id": "b7c3a243",
   "metadata": {},
   "outputs": [],
   "source": [
    "# load data\n",
    "with open('tweets_without_labels.txt', 'r', encoding='utf-8') as file:\n",
    "    tweets_without_labels = file.readlines()\n",
    "\n",
    "with open('labels.txt', 'r', encoding='utf-8') as file:\n",
    "    labels = file.readlines()\n",
    "    \n",
    "# convert numircal \n",
    "labels_numerical = [1 if label.strip() == 'POLIT' else 0 for label in labels]\n",
    "X_train, X_test, y_train, y_test = train_test_split(tweets_without_labels, labels_numerical, test_size=0.2, random_state=42)"
   ]
  },
  {
   "cell_type": "code",
   "execution_count": 3,
   "id": "757c04a0",
   "metadata": {},
   "outputs": [],
   "source": [
    "# creating the base model\n",
    "pipeline_no_preprocessing = make_pipeline(TfidfVectorizer(), LogisticRegression(random_state=42))\n",
    "pipeline_no_preprocessing.fit(X_train, y_train)\n",
    "\n",
    "# predict\n",
    "y_pred = pipeline_no_preprocessing.predict(X_test)\n",
    "\n",
    "# model eval\n",
    "accuracy_no_preprocessing = accuracy_score(y_test, y_pred)\n",
    "classification_report_no_preprocessing = classification_report(y_test, y_pred)"
   ]
  },
  {
   "cell_type": "code",
   "execution_count": 5,
   "id": "c2e4b506",
   "metadata": {},
   "outputs": [
    {
     "name": "stdout",
     "output_type": "stream",
     "text": [
      "Accuracy: 0.8639200998751561\n",
      "Classification Report:\n",
      "              precision    recall  f1-score   support\n",
      "\n",
      "           0       0.91      0.85      0.88       461\n",
      "           1       0.81      0.88      0.85       340\n",
      "\n",
      "    accuracy                           0.86       801\n",
      "   macro avg       0.86      0.87      0.86       801\n",
      "weighted avg       0.87      0.86      0.86       801\n",
      "\n"
     ]
    }
   ],
   "source": [
    "# Print results\n",
    "print(f'Accuracy: {accuracy_no_preprocessing}')\n",
    "print(f'Classification Report:\\n{classification_report_no_preprocessing}')"
   ]
  },
  {
   "cell_type": "markdown",
   "id": "e960b51a",
   "metadata": {},
   "source": [
    "The data set used is simple, contains around 4000 tweets that labeld as POLIT and NO which is why the result are high. \n",
    "Source: https://www.usna.edu/Users/cs/nchamber/data/twitter/"
   ]
  },
  {
   "cell_type": "code",
   "execution_count": null,
   "id": "08a5c1da",
   "metadata": {},
   "outputs": [],
   "source": []
  }
 ],
 "metadata": {
  "kernelspec": {
   "display_name": "Python 3 (ipykernel)",
   "language": "python",
   "name": "python3"
  },
  "language_info": {
   "codemirror_mode": {
    "name": "ipython",
    "version": 3
   },
   "file_extension": ".py",
   "mimetype": "text/x-python",
   "name": "python",
   "nbconvert_exporter": "python",
   "pygments_lexer": "ipython3",
   "version": "3.8.5"
  }
 },
 "nbformat": 4,
 "nbformat_minor": 5
}
